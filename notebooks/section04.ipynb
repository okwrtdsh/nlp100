{
 "cells": [
  {
   "cell_type": "markdown",
   "metadata": {},
   "source": [
    "# 第4章: 形態素解析\n",
    "夏目漱石の小説『吾輩は猫である』の文章（[neko.txt](http://www.cl.ecei.tohoku.ac.jp/nlp100/data/neko.txt)）をMeCabを使って形態素解析し，その結果をneko.txt.mecabというファイルに保存せよ．このファイルを用いて，以下の問に対応するプログラムを実装せよ．\n",
    "\n",
    "なお，問題37, 38, 39はmatplotlibもしくはGnuplotを用いるとよい．"
   ]
  },
  {
   "cell_type": "code",
   "execution_count": 1,
   "metadata": {
    "scrolled": false
   },
   "outputs": [
    {
     "name": "stdout",
     "output_type": "stream",
     "text": [
      "mecab of 0.996\r\n",
      "\r\n"
     ]
    }
   ],
   "source": [
    "!apt-get update -qq\n",
    "!apt-get install -qq mecab libmecab-dev mecab-ipadic-utf8 gcc build-essential\n",
    "!mecab -v"
   ]
  },
  {
   "cell_type": "code",
   "execution_count": 2,
   "metadata": {
    "collapsed": true
   },
   "outputs": [],
   "source": [
    "!pip install -qq mecab-python3"
   ]
  },
  {
   "cell_type": "code",
   "execution_count": 3,
   "metadata": {
    "collapsed": true
   },
   "outputs": [],
   "source": [
    "!wget -q -nc http://www.cl.ecei.tohoku.ac.jp/nlp100/data/neko.txt"
   ]
  },
  {
   "cell_type": "code",
   "execution_count": 4,
   "metadata": {
    "collapsed": true
   },
   "outputs": [],
   "source": [
    "!cat neko.txt | mecab > neko.txt.mecab"
   ]
  },
  {
   "cell_type": "markdown",
   "metadata": {},
   "source": [
    "## 30. 形態素解析結果の読み込み\n",
    "形態素解析結果（neko.txt.mecab）を読み込むプログラムを実装せよ．ただし，各形態素は表層形（surface），基本形（base），品詞（pos），品詞細分類1（pos1）をキーとするマッピング型に格納し，1文を形態素（マッピング型）のリストとして表現せよ．第4章の残りの問題では，ここで作ったプログラムを活用せよ．"
   ]
  },
  {
   "cell_type": "code",
   "execution_count": 5,
   "metadata": {
    "collapsed": true
   },
   "outputs": [],
   "source": [
    "def solve30(filename):\n",
    "    sentences = []\n",
    "    sentence = []\n",
    "    import re\n",
    "    rgx = re.compile(r'^(.*?)\\t(.*?),(.*?),.*?,.*?,.*?,.*?,(.*?),.*?,.*?$')\n",
    "    with open(filename, 'r') as f:\n",
    "        for line in f:\n",
    "            if 'EOS' in line:\n",
    "                if sentence:\n",
    "                    sentences.append(sentence)\n",
    "                sentence = []\n",
    "                continue\n",
    "            m = rgx.match(line)\n",
    "            if m is not None:\n",
    "                sentence.append({'surface': m.group(1), 'base': m.group(4), 'pos': m.group(2), 'pos1': m.group(3)})\n",
    "    return sentences"
   ]
  },
  {
   "cell_type": "code",
   "execution_count": 6,
   "metadata": {
    "scrolled": false
   },
   "outputs": [
    {
     "data": {
      "text/plain": [
       "[{'base': '吾輩', 'pos': '名詞', 'pos1': '代名詞', 'surface': '吾輩'},\n",
       " {'base': 'は', 'pos': '助詞', 'pos1': '係助詞', 'surface': 'は'},\n",
       " {'base': 'ここ', 'pos': '名詞', 'pos1': '代名詞', 'surface': 'ここ'},\n",
       " {'base': 'で', 'pos': '助詞', 'pos1': '格助詞', 'surface': 'で'},\n",
       " {'base': '始める', 'pos': '動詞', 'pos1': '自立', 'surface': '始め'},\n",
       " {'base': 'て', 'pos': '助詞', 'pos1': '接続助詞', 'surface': 'て'},\n",
       " {'base': '人間', 'pos': '名詞', 'pos1': '一般', 'surface': '人間'},\n",
       " {'base': 'という', 'pos': '助詞', 'pos1': '格助詞', 'surface': 'という'},\n",
       " {'base': 'もの', 'pos': '名詞', 'pos1': '非自立', 'surface': 'もの'},\n",
       " {'base': 'を', 'pos': '助詞', 'pos1': '格助詞', 'surface': 'を'},\n",
       " {'base': '見る', 'pos': '動詞', 'pos1': '自立', 'surface': '見'},\n",
       " {'base': 'た', 'pos': '助動詞', 'pos1': '*', 'surface': 'た'},\n",
       " {'base': '。', 'pos': '記号', 'pos1': '句点', 'surface': '。'}]"
      ]
     },
     "execution_count": 6,
     "metadata": {},
     "output_type": "execute_result"
    }
   ],
   "source": [
    "solve30('neko.txt.mecab')[5]"
   ]
  },
  {
   "cell_type": "markdown",
   "metadata": {},
   "source": [
    "## 31. 動詞\n",
    "動詞の表層形をすべて抽出せよ．"
   ]
  },
  {
   "cell_type": "code",
   "execution_count": 7,
   "metadata": {
    "collapsed": true
   },
   "outputs": [],
   "source": [
    "def solve31(filename):\n",
    "    return [d['surface'] for sentence in solve30(filename) for d in sentence if d['pos'] == \"動詞\"]"
   ]
  },
  {
   "cell_type": "code",
   "execution_count": 8,
   "metadata": {
    "scrolled": true
   },
   "outputs": [
    {
     "data": {
      "text/plain": [
       "['生れ', 'つか', 'し', '泣い', 'し', 'いる', '始め', '見', '聞く', '捕え']"
      ]
     },
     "execution_count": 8,
     "metadata": {},
     "output_type": "execute_result"
    }
   ],
   "source": [
    "solve31('neko.txt.mecab')[:10]"
   ]
  },
  {
   "cell_type": "markdown",
   "metadata": {},
   "source": [
    "## 32. 動詞の原形\n",
    "動詞の原形をすべて抽出せよ．"
   ]
  },
  {
   "cell_type": "code",
   "execution_count": 9,
   "metadata": {
    "collapsed": true
   },
   "outputs": [],
   "source": [
    "def solve32(filename):\n",
    "    return [d['base'] for sentence in solve30(filename) for d in sentence if d['pos'] == \"動詞\"]"
   ]
  },
  {
   "cell_type": "code",
   "execution_count": 10,
   "metadata": {
    "scrolled": true
   },
   "outputs": [
    {
     "data": {
      "text/plain": [
       "['生れる', 'つく', 'する', '泣く', 'する', 'いる', '始める', '見る', '聞く', '捕える']"
      ]
     },
     "execution_count": 10,
     "metadata": {},
     "output_type": "execute_result"
    }
   ],
   "source": [
    "solve32('neko.txt.mecab')[:10]"
   ]
  },
  {
   "cell_type": "markdown",
   "metadata": {},
   "source": [
    "## 33. サ変名詞\n",
    "サ変接続の名詞をすべて抽出せよ．"
   ]
  },
  {
   "cell_type": "code",
   "execution_count": 11,
   "metadata": {
    "collapsed": true
   },
   "outputs": [],
   "source": [
    "def solve33(filename):\n",
    "    return [d['base'] for sentence in solve30(filename) for d in sentence if d['pos1'] == \"サ変接続\"]"
   ]
  },
  {
   "cell_type": "code",
   "execution_count": 12,
   "metadata": {},
   "outputs": [
    {
     "data": {
      "text/plain": [
       "['見当', '記憶', '話', '装飾', '突起', '運転', '記憶', '分別', '決心', '我慢']"
      ]
     },
     "execution_count": 12,
     "metadata": {},
     "output_type": "execute_result"
    }
   ],
   "source": [
    "solve33('neko.txt.mecab')[:10]"
   ]
  },
  {
   "cell_type": "markdown",
   "metadata": {},
   "source": [
    "## 34. 「AのB」\n",
    "2つの名詞が「の」で連結されている名詞句を抽出せよ．"
   ]
  },
  {
   "cell_type": "code",
   "execution_count": 13,
   "metadata": {
    "collapsed": true
   },
   "outputs": [],
   "source": [
    "def solve34(filename):\n",
    "    noun_phrases = []\n",
    "    \n",
    "    is_noun = lambda d: d['pos'] == \"名詞\"\n",
    "    is_no = lambda d: d['surface'] == \"の\" and d['pos'] == \"助詞\" and d['pos1'] == \"連体化\"\n",
    "    for sentence in solve30(filename):\n",
    "        tmp = ''\n",
    "        step = 0\n",
    "        for d in sentence:\n",
    "            if step == 2:\n",
    "                if is_noun(d):\n",
    "                    noun_phrases.append(tmp + d['surface'])\n",
    "                step = 0\n",
    "                tmp = ''\n",
    "            elif step == 1:\n",
    "                if is_no(d):\n",
    "                    tmp += d['surface']\n",
    "                    step = 2\n",
    "                elif is_noun(d):\n",
    "                    tmp = d['surface']\n",
    "                else:\n",
    "                    step = 0\n",
    "                    tmp = ''\n",
    "            elif is_noun(d):\n",
    "                tmp = d['surface']\n",
    "                step = 1\n",
    "    return noun_phrases"
   ]
  },
  {
   "cell_type": "code",
   "execution_count": 14,
   "metadata": {},
   "outputs": [
    {
     "data": {
      "text/plain": [
       "['彼の掌', '掌の上', '書生の顔', 'はずの顔', '顔の真中', '穴の中', '書生の掌', '何の事', '肝心の母親', '藁の上']"
      ]
     },
     "execution_count": 14,
     "metadata": {},
     "output_type": "execute_result"
    }
   ],
   "source": [
    "solve34('neko.txt.mecab')[:10]"
   ]
  },
  {
   "cell_type": "markdown",
   "metadata": {},
   "source": [
    "## 35. 名詞の連接\n",
    "名詞の連接（連続して出現する名詞）を最長一致で抽出せよ．"
   ]
  },
  {
   "cell_type": "code",
   "execution_count": 15,
   "metadata": {
    "collapsed": true
   },
   "outputs": [],
   "source": [
    "def solve35(filename):\n",
    "    noun_phrases = []\n",
    "    is_noun = lambda d: d['pos'] == \"名詞\"\n",
    "    for sentence in solve30(filename):\n",
    "        tmp = ''\n",
    "        length = 0\n",
    "        for d in sentence:\n",
    "            if is_noun(d):\n",
    "                tmp += d['surface']\n",
    "                length += 1\n",
    "            else:\n",
    "                if length > 1:\n",
    "                    noun_phrases.append(tmp)\n",
    "                tmp = ''\n",
    "                length = 0\n",
    "    return noun_phrases"
   ]
  },
  {
   "cell_type": "code",
   "execution_count": 16,
   "metadata": {},
   "outputs": [
    {
     "data": {
      "text/plain": [
       "['人間中', '一番獰悪', '時妙', '一毛', 'その後猫', '一度', '邸内', '三毛', '書生以外', '四五遍']"
      ]
     },
     "execution_count": 16,
     "metadata": {},
     "output_type": "execute_result"
    }
   ],
   "source": [
    "solve35('neko.txt.mecab')[:10]"
   ]
  },
  {
   "cell_type": "markdown",
   "metadata": {},
   "source": [
    "## 36. 単語の出現頻度\n",
    "文章中に出現する単語とその出現頻度を求め，出現頻度の高い順に並べよ．"
   ]
  },
  {
   "cell_type": "code",
   "execution_count": 17,
   "metadata": {
    "collapsed": true
   },
   "outputs": [],
   "source": [
    "def solve36(filename, top_n=None):\n",
    "    from collections import Counter\n",
    "    cnt = Counter([d['base'] for sentence in solve30(filename) for d in sentence])\n",
    "    return cnt.most_common(top_n)"
   ]
  },
  {
   "cell_type": "code",
   "execution_count": 18,
   "metadata": {},
   "outputs": [
    {
     "data": {
      "text/plain": [
       "[('の', 9194),\n",
       " ('。', 7486),\n",
       " ('て', 6848),\n",
       " ('、', 6772),\n",
       " ('は', 6420),\n",
       " ('に', 6243),\n",
       " ('を', 6071),\n",
       " ('だ', 5975),\n",
       " ('と', 5508),\n",
       " ('が', 5337)]"
      ]
     },
     "execution_count": 18,
     "metadata": {},
     "output_type": "execute_result"
    }
   ],
   "source": [
    "solve36('neko.txt.mecab', 10)"
   ]
  },
  {
   "cell_type": "markdown",
   "metadata": {},
   "source": [
    "## 37. 頻度上位10語\n",
    "出現頻度が高い10語とその出現頻度をグラフ（例えば棒グラフなど）で表示せよ．"
   ]
  },
  {
   "cell_type": "code",
   "execution_count": 19,
   "metadata": {},
   "outputs": [
    {
     "name": "stdout",
     "output_type": "stream",
     "text": [
      "/usr/share/fonts/opentype/ipafont-mincho/ipam.ttf: IPAMincho,IPA明朝:style=Regular\r\n",
      "/usr/share/fonts/opentype/ipafont-gothic/ipagp.ttf: IPAPGothic,IPA Pゴシック:style=Regular\r\n",
      "/usr/share/fonts/opentype/ipafont-mincho/ipamp.ttf: IPAPMincho,IPA P明朝:style=Regular\r\n",
      "/usr/share/fonts/opentype/ipafont-gothic/ipag.ttf: IPAGothic,IPAゴシック:style=Regular\r\n"
     ]
    }
   ],
   "source": [
    "!apt-get update -qq\n",
    "!apt-get install -qq fonts-ipafont-gothic\n",
    "!fc-list | grep ipa"
   ]
  },
  {
   "cell_type": "code",
   "execution_count": 20,
   "metadata": {
    "collapsed": true
   },
   "outputs": [],
   "source": [
    "%matplotlib inline\n",
    "def solve37(filename, top_n=10):\n",
    "    import numpy as np\n",
    "    from matplotlib import pyplot as plt\n",
    "    plt.rcParams['font.family'] = 'IPAGothic'\n",
    "    res = solve36(filename, top_n)\n",
    "    freq = [t[1] for t in res]\n",
    "    label = [t[0] for t in res]\n",
    "    x = np.arange(0, top_n, 1)\n",
    "    plt.bar(x, freq)\n",
    "    plt.xticks(x, label)\n",
    "    plt.ylim(min(freq)-500, max(freq)+500)\n",
    "    plt.show()"
   ]
  },
  {
   "cell_type": "code",
   "execution_count": 21,
   "metadata": {},
   "outputs": [
    {
     "data": {
      "image/png": "[encoded data removed]",
      "text/plain": [
       "<matplotlib.figure.Figure at 0x7f90c1494080>"
      ]
     },
     "metadata": {},
     "output_type": "display_data"
    }
   ],
   "source": [
    "solve37('neko.txt.mecab')"
   ]
  },
  {
   "cell_type": "markdown",
   "metadata": {},
   "source": [
    "## 38. ヒストグラム\n",
    "単語の出現頻度のヒストグラム（横軸に出現頻度，縦軸に出現頻度をとる単語の種類数を棒グラフで表したもの）を描け．"
   ]
  },
  {
   "cell_type": "code",
   "execution_count": 22,
   "metadata": {},
   "outputs": [],
   "source": [
    "%matplotlib inline\n",
    "def solve38(filename):\n",
    "    import numpy as np\n",
    "    from matplotlib import pyplot as plt\n",
    "    from collections import Counter\n",
    "    cnt = Counter([t[1] for t in solve36(filename)])\n",
    "    hist = [t[1] for t in cnt.most_common()]\n",
    "    x = np.arange(1, len(hist)+1, 1)\n",
    "    plt.bar(x, hist)\n",
    "    plt.ylim(0, max(hist)+100)\n",
    "    plt.xlim(0, 30)\n",
    "    plt.show()"
   ]
  },
  {
   "cell_type": "code",
   "execution_count": 23,
   "metadata": {
    "scrolled": false
   },
   "outputs": [
    {
     "data": {
      "image/png": "[encoded data removed]",
      "text/plain": [
       "<matplotlib.figure.Figure at 0x7f90c7257978>"
      ]
     },
     "metadata": {},
     "output_type": "display_data"
    }
   ],
   "source": [
    "solve38('neko.txt.mecab')"
   ]
  },
  {
   "cell_type": "markdown",
   "metadata": {},
   "source": [
    "## 39. Zipfの法則\n",
    "単語の出現頻度順位を横軸，その出現頻度を縦軸として，両対数グラフをプロットせよ．"
   ]
  },
  {
   "cell_type": "code",
   "execution_count": 24,
   "metadata": {
    "collapsed": true
   },
   "outputs": [],
   "source": [
    "%matplotlib inline\n",
    "def solve39(filename):\n",
    "    import numpy as np\n",
    "    from matplotlib import pyplot as plt\n",
    "    res = solve36(filename)\n",
    "    freq = [t[1] for t in res]\n",
    "    rank = np.arange(1, len(freq)+1, 1)\n",
    "    plt.plot(rank, freq)\n",
    "    ax = plt.gca()\n",
    "    ax.set_xscale('log')\n",
    "    ax.set_yscale('log')\n",
    "    plt.grid()\n",
    "    plt.show()"
   ]
  },
  {
   "cell_type": "code",
   "execution_count": 25,
   "metadata": {},
   "outputs": [
    {
     "data": {
      "image/png": "[encoded data removed]",
      "text/plain": [
       "<matplotlib.figure.Figure at 0x7f90c98a34e0>"
      ]
     },
     "metadata": {},
     "output_type": "display_data"
    }
   ],
   "source": [
    "solve39('neko.txt.mecab')"
   ]
  },
  {
   "cell_type": "code",
   "execution_count": 26,
   "metadata": {
    "collapsed": true
   },
   "outputs": [],
   "source": [
    "!rm neko.*"
   ]
  },
  {
   "cell_type": "code",
   "execution_count": null,
   "metadata": {
    "collapsed": true
   },
   "outputs": [],
   "source": []
  }
 ],
 "metadata": {
  "kernelspec": {
   "display_name": "Python 3",
   "language": "python",
   "name": "python3"
  },
  "language_info": {
   "codemirror_mode": {
    "name": "ipython",
    "version": 3
   },
   "file_extension": ".py",
   "mimetype": "text/x-python",
   "name": "python",
   "nbconvert_exporter": "python",
   "pygments_lexer": "ipython3",
   "version": "3.6.3"
  }
 },
 "nbformat": 4,
 "nbformat_minor": 2
}
